{
 "cells": [
  {
   "cell_type": "code",
   "execution_count": 1,
   "metadata": {},
   "outputs": [
    {
     "name": "stdout",
     "output_type": "stream",
     "text": [
      "Native Multioutput RandomForestRegressor:\n",
      "Average MSE: 36.4432\n",
      "Average MAPE: 26.0215\n",
      "\n",
      "MultiOutputRegressor with RandomForestRegressor:\n",
      "Average MSE: 36.4997\n",
      "Average MAPE: 27.5251\n"
     ]
    }
   ],
   "source": [
    "import numpy as np\n",
    "import pandas as pd\n",
    "from sklearn.ensemble import RandomForestRegressor\n",
    "from sklearn.multioutput import MultiOutputRegressor\n",
    "from sklearn.metrics import mean_squared_error, mean_absolute_percentage_error\n",
    "from sklearn.model_selection import TimeSeriesSplit\n",
    "import matplotlib.pyplot as plt\n",
    "\n",
    "# 1. Function to generate the time series dataset\n",
    "def generate_time_series(N):\n",
    "    np.random.seed(0)  # For reproducibility\n",
    "    t = np.arange(N)\n",
    "    \n",
    "    # Weekly cyclicity\n",
    "    weekly_cycle = 10 * np.sin(2 * np.pi * t / 7)\n",
    "    \n",
    "    # Exogenous variable X_t\n",
    "    X_t = 5 * np.cos(2 * np.pi * t / 30) + np.random.normal(0, 1, N)\n",
    "    \n",
    "    # Initialize y_t\n",
    "    y = np.zeros(N)\n",
    "    e_t = np.random.normal(0, 0.5, N)  # Noise term\n",
    "    \n",
    "    # Autoregressive coefficients\n",
    "    phi = [0.5, -0.3, 0.2, -0.1]\n",
    "    beta = 1.5  # Coefficient for X_t\n",
    "    \n",
    "    # Generate y_t\n",
    "    for i in range(4, N):\n",
    "        y[i] = (weekly_cycle[i] +\n",
    "                phi[0]*y[i-1] +\n",
    "                phi[1]*y[i-2] +\n",
    "                phi[2]*y[i-3] +\n",
    "                phi[3]*y[i-4] +\n",
    "                beta*X_t[i] +\n",
    "                e_t[i])\n",
    "    return pd.DataFrame({'y': y, 'X': X_t})\n",
    "\n",
    "# Generate the dataset\n",
    "N = 200  # Total number of time points\n",
    "data = generate_time_series(N)\n",
    "\n",
    "# Prepare the dataset for modeling\n",
    "def prepare_dataset(data, n_lags=4, n_ahead=10):\n",
    "    X, y = [], []\n",
    "    for i in range(n_lags, len(data) - n_ahead):\n",
    "        X.append(np.hstack([\n",
    "            data['y'].values[i - n_lags:i],  # lags of y\n",
    "            data['X'].values[i]              # current X_t\n",
    "        ]))\n",
    "        y.append(data['y'].values[i:i + n_ahead])  # next n_ahead steps\n",
    "    return np.array(X), np.array(y)\n",
    "\n",
    "X, y = prepare_dataset(data)\n",
    "\n",
    "# Time Series Cross-Validation\n",
    "tscv = TimeSeriesSplit(n_splits=5)\n",
    "\n",
    "# Initialize lists to store errors\n",
    "mse_native_list, mape_native_list = [], []\n",
    "mse_multioutput_list, mape_multioutput_list = [], []\n",
    "\n",
    "for train_index, test_index in tscv.split(X):\n",
    "    X_train, X_test = X[train_index], X[test_index]\n",
    "    y_train, y_test = y[train_index], y[test_index]\n",
    "    \n",
    "    # 2.a Native multioutput capability\n",
    "    rf_native = RandomForestRegressor(n_estimators=100, random_state=0)\n",
    "    rf_native.fit(X_train, y_train)\n",
    "    y_pred_native = rf_native.predict(X_test)\n",
    "    \n",
    "    # 2.b Using MultiOutputRegressor\n",
    "    rf_base = RandomForestRegressor(n_estimators=100, random_state=0)\n",
    "    rf_multioutput = MultiOutputRegressor(rf_base)\n",
    "    rf_multioutput.fit(X_train, y_train)\n",
    "    y_pred_multioutput = rf_multioutput.predict(X_test)\n",
    "    \n",
    "    # 3. Compute MSE and MAPE\n",
    "    mse_native = mean_squared_error(y_test, y_pred_native)\n",
    "    mape_native = mean_absolute_percentage_error(y_test, y_pred_native)\n",
    "    mse_multioutput = mean_squared_error(y_test, y_pred_multioutput)\n",
    "    mape_multioutput = mean_absolute_percentage_error(y_test, y_pred_multioutput)\n",
    "    \n",
    "    mse_native_list.append(mse_native)\n",
    "    mape_native_list.append(mape_native)\n",
    "    mse_multioutput_list.append(mse_multioutput)\n",
    "    mape_multioutput_list.append(mape_multioutput)\n",
    "\n",
    "# Compute average errors\n",
    "avg_mse_native = np.mean(mse_native_list)\n",
    "avg_mape_native = np.mean(mape_native_list)\n",
    "avg_mse_multioutput = np.mean(mse_multioutput_list)\n",
    "avg_mape_multioutput = np.mean(mape_multioutput_list)\n",
    "\n",
    "print(\"Native Multioutput RandomForestRegressor:\")\n",
    "print(f\"Average MSE: {avg_mse_native:.4f}\")\n",
    "print(f\"Average MAPE: {avg_mape_native:.4f}\")\n",
    "\n",
    "print(\"\\nMultiOutputRegressor with RandomForestRegressor:\")\n",
    "print(f\"Average MSE: {avg_mse_multioutput:.4f}\")\n",
    "print(f\"Average MAPE: {avg_mape_multioutput:.4f}\")\n"
   ]
  },
  {
   "cell_type": "code",
   "execution_count": 3,
   "metadata": {},
   "outputs": [
    {
     "data": {
      "text/plain": [
       "(186, 10)"
      ]
     },
     "execution_count": 3,
     "metadata": {},
     "output_type": "execute_result"
    }
   ],
   "source": [
    "y.shape"
   ]
  },
  {
   "cell_type": "code",
   "execution_count": null,
   "metadata": {},
   "outputs": [],
   "source": []
  }
 ],
 "metadata": {
  "kernelspec": {
   "display_name": "Python 3",
   "language": "python",
   "name": "python3"
  },
  "language_info": {
   "codemirror_mode": {
    "name": "ipython",
    "version": 3
   },
   "file_extension": ".py",
   "mimetype": "text/x-python",
   "name": "python",
   "nbconvert_exporter": "python",
   "pygments_lexer": "ipython3",
   "version": "3.9.10"
  }
 },
 "nbformat": 4,
 "nbformat_minor": 2
}
